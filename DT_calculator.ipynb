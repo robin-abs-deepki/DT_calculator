{
 "cells": [
  {
   "cell_type": "code",
   "execution_count": null,
   "metadata": {
    "ExecuteTime": {
     "end_time": "2020-10-07T09:43:48.041963Z",
     "start_time": "2020-10-07T09:43:48.038641Z"
    }
   },
   "outputs": [],
   "source": [
    "from ipywidgets import * "
   ]
  },
  {
   "cell_type": "code",
   "execution_count": null,
   "metadata": {
    "ExecuteTime": {
     "end_time": "2020-10-07T09:44:06.946354Z",
     "start_time": "2020-10-07T09:44:06.923171Z"
    },
    "code_folding": [
     0
    ]
   },
   "outputs": [],
   "source": [
    "################ Calculator parameters ################\n",
    "d_office_cvc_30 = {\n",
    "    'H1a': {\n",
    "        'ref_100': 57,\n",
    "        'ref_500': 68,\n",
    "    },\n",
    "    'H1b': {\n",
    "        'ref_100': 66,\n",
    "        'ref_500': 77,\n",
    "        'ref_900': 90,\n",
    "        'ref_1400': 125,\n",
    "    },\n",
    "    'H1c': {\n",
    "        'ref_100': 62,\n",
    "        'ref_500': 71,\n",
    "        'ref_900': 81,\n",
    "        'ref_1400': 115,\n",
    "        'ref_1700': 133,\n",
    "    },\n",
    "    'H2a': {\n",
    "        'ref_100': 57,\n",
    "    },\n",
    "    'H2b': {\n",
    "        'ref_100': 50,\n",
    "        'ref_500': 61,\n",
    "    },\n",
    "    'H2c': {\n",
    "        'ref_100': 56,\n",
    "        'ref_500': 64,\n",
    "        'ref_900': 75,\n",
    "        'ref_1400': 109,\n",
    "        'ref_1700': 117,\n",
    "    },\n",
    "    'H2d': {\n",
    "        'ref_100': 63,\n",
    "        'ref_500': 66,\n",
    "        'ref_900': 68,\n",
    "        'ref_1400': 99,\n",
    "        'ref_1700': 107,\n",
    "    },\n",
    "    'H3': {\n",
    "        'ref_100': 40,\n",
    "        'ref_500': 44,\n",
    "        'ref_900': 54,\n",
    "        'ref_1400': 84,\n",
    "        'ref_1700': 92,\n",
    "    }\n",
    "} \n",
    "\n",
    "d_use = {\n",
    "    'std_office': 50,\n",
    "    'open_space': 60,\n",
    "    'flex_offce': 70,\n",
    "}\n",
    "\n",
    "d_t_occ = {\n",
    "    'std_office': 70,\n",
    "    'open_space': 70,\n",
    "    'flex_offce': 85,\n",
    "}\n",
    "\n",
    "d_surf_poste = {\n",
    "    'std_office': 18,\n",
    "    'open_space': 15,\n",
    "    'flex_offce': 15,\n",
    "}\n"
   ]
  },
  {
   "cell_type": "code",
   "execution_count": null,
   "metadata": {
    "ExecuteTime": {
     "end_time": "2020-10-07T09:44:07.337581Z",
     "start_time": "2020-10-07T09:44:07.298330Z"
    },
    "code_folding": [
     0
    ]
   },
   "outputs": [],
   "source": [
    "################ Calculator widgets ################\n",
    "range_t_occ = [0, 100, 1]\n",
    "range_surf_poste = [1, 50, 0.1]\n",
    "range_nb_h_ouvres = [0, 8760, 10]\n",
    "\n",
    "\n",
    "t_occ_widget = widgets.IntSlider(value=70, min=range_t_occ[0], max=range_t_occ[1], step=10, \n",
    "                                 description='Taux d’occupation (%)', continuous_update=False)\n",
    "surf_poste_widget = widgets.IntSlider(value=18, min=range_surf_poste[0], max=range_surf_poste[1], step=1, \n",
    "                                      description='Surface Utile Brute (m2/poste)', continuous_update=False) \n",
    "nb_h_ouvres_widget = widgets.IntSlider(value=3120, min=range_nb_h_ouvres[0], max=range_nb_h_ouvres[1], step=60, \n",
    "                                       description='Amplitude horaire annuelle (h ouvrées/an)', \n",
    "                                       continuous_update=False)\n",
    "\n",
    "office_type_widget = Dropdown(value='std_office', options = d_use.keys(), description = \"Type de bureau\")\n",
    "climate_zone_widget = Dropdown(value='H1a', options = d_office_cvc_30.keys(), description = \"Zone climatique\")\n",
    "altitude_ref_widget = Dropdown(value='ref_100', options = d_office_cvc_30['H1a'].keys(), description = \"Altitude de référence\")"
   ]
  },
  {
   "cell_type": "code",
   "execution_count": null,
   "metadata": {
    "ExecuteTime": {
     "end_time": "2020-10-07T09:44:07.631698Z",
     "start_time": "2020-10-07T09:44:07.603533Z"
    },
    "code_folding": [
     0,
     39
    ]
   },
   "outputs": [],
   "source": [
    "################ Calculator ################\n",
    "def Office_Cabs_calculator(d_office_cvc_30, \n",
    "                           d_use, \n",
    "                           d_t_occ, \n",
    "                           d_surf_poste, \n",
    "                           office_type, \n",
    "                           climate_zone, \n",
    "                           altitude_ref, \n",
    "                           T_occ, Surf_poste, \n",
    "                           Nb_h_ouvres):\n",
    "    try:\n",
    "        CVC = d_office_cvc_30[climate_zone][altitude_ref]\n",
    "    except:\n",
    "        print(f'\\nAltitude {altitude_ref} does not exist for climate zone {climate_zone}')\n",
    "        return\n",
    "    \n",
    "    dt = 3120\n",
    "    USE = d_use[office_type] * (0.05 + 0.95 * (T_occ/d_t_occ[office_type]) \\\n",
    "                                * (d_surf_poste[office_type]/Surf_poste) \\\n",
    "                                * (Nb_h_ouvres/dt) \\\n",
    "                                + 0.28 * ((Nb_h_ouvres - dt)/dt)\n",
    "                               )\n",
    "    print(f'\\nLa valeur du seuil Cabs pour ce type de bureau vaut {CVC + USE:.1f} kWh/m2•an')\n",
    "    return\n",
    "\n",
    "\n",
    "def update_altitude_ref_options(*args):\n",
    "    altitude_ref_widget.options = d_office_cvc_30[climate_zone_widget.value].keys()\n",
    "climate_zone_widget.observe(update_altitude_ref_options, 'value')\n",
    "\n",
    "def update_t_occ_values(*args):\n",
    "    t_occ_widget.value = d_t_occ[office_type_widget.value]\n",
    "office_type_widget.observe(update_t_occ_values, 'value')\n",
    "\n",
    "def update_surf_poste_values(*args):\n",
    "    surf_poste_widget.value = d_surf_poste[office_type_widget.value]\n",
    "office_type_widget.observe(update_surf_poste_values, 'value')\n",
    "\n",
    "d_dist_cabs = \\\n",
    "interact(Office_Cabs_calculator, \n",
    "         d_office_cvc_30=fixed(d_office_cvc_30), \n",
    "         d_use=fixed(d_use),\n",
    "         d_t_occ=fixed(d_t_occ),\n",
    "         d_surf_poste=fixed(d_surf_poste), \n",
    "         office_type=office_type_widget, \n",
    "         climate_zone=climate_zone_widget,\n",
    "         altitude_ref=altitude_ref_widget, \n",
    "         T_occ=t_occ_widget, \n",
    "         Surf_poste=surf_poste_widget, \n",
    "         Nb_h_ouvres=nb_h_ouvres_widget)"
   ]
  },
  {
   "cell_type": "code",
   "execution_count": null,
   "metadata": {},
   "outputs": [],
   "source": []
  },
  {
   "cell_type": "markdown",
   "metadata": {},
   "source": [
    "![logo_deepki](logo_deepki.png)"
    "<img src='logo_deepki.png'  width='120'>"
   ]
  },
  {
   "cell_type": "code",
   "execution_count": null,
   "metadata": {},
   "outputs": [],
   "source": []
  }
 ],
 "metadata": {
  "kernelspec": {
   "display_name": "Python 3",
   "language": "python",
   "name": "python3"
  },
  "language_info": {
   "codemirror_mode": {
    "name": "ipython",
    "version": 3
   },
   "file_extension": ".py",
   "mimetype": "text/x-python",
   "name": "python",
   "nbconvert_exporter": "python",
   "pygments_lexer": "ipython3",
   "version": "3.6.3"
  },
  "toc": {
   "base_numbering": 1,
   "nav_menu": {},
   "number_sections": true,
   "sideBar": true,
   "skip_h1_title": false,
   "title_cell": "Table of Contents",
   "title_sidebar": "Contents",
   "toc_cell": false,
   "toc_position": {},
   "toc_section_display": true,
   "toc_window_display": false
  }
 },
 "nbformat": 4,
 "nbformat_minor": 4
}
